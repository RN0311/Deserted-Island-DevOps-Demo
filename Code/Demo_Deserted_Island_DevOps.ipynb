{
  "nbformat": 4,
  "nbformat_minor": 0,
  "metadata": {
    "colab": {
      "provenance": [],
      "collapsed_sections": []
    },
    "kernelspec": {
      "name": "python3",
      "display_name": "Python 3"
    },
    "language_info": {
      "name": "python"
    },
    "accelerator": "GPU",
    "gpuClass": "standard"
  },
  "cells": [
    {
      "cell_type": "markdown",
      "source": [
        "# Import Modules"
      ],
      "metadata": {
        "id": "CgQSVo5BL8Wm"
      }
    },
    {
      "cell_type": "code",
      "source": [
        "import numpy as np\n",
        "import pandas as pd\n",
        "import seaborn as sns\n",
        "import matplotlib.pyplot as plt\n",
        "import warnings\n",
        "warnings.filterwarnings('ignore')\n",
        "from sklearn.ensemble import RandomForestClassifier\n",
        "from sklearn.calibration import CalibratedClassifierCV\n",
        "from sklearn.model_selection import train_test_split\n",
        "from sklearn.model_selection import RandomizedSearchCV\n",
        "import pandas as pd\n",
        "import numpy as np\n",
        "import json\n",
        "import glob\n",
        "import operator\n",
        "\n",
        "from sklearn.utils import shuffle\n",
        "import warnings\n",
        "warnings.filterwarnings('ignore')\n",
        "from matplotlib import rcParams\n",
        "import seaborn as sns\n",
        "from sklearn.model_selection import GridSearchCV\n",
        "from sklearn.feature_selection import SelectKBest, f_classif\n",
        "from sklearn.ensemble import RandomForestClassifier\n",
        "from sklearn.calibration import CalibratedClassifierCV\n",
        "from sklearn.model_selection import train_test_split\n",
        "from sklearn.metrics import classification_report\n",
        "from sklearn.metrics import f1_score, recall_score, accuracy_score\n",
        "from sklearn.tree import DecisionTreeClassifier\n",
        "from sklearn.neighbors import KNeighborsClassifier"
      ],
      "metadata": {
        "id": "zirjxDseL-vc"
      },
      "execution_count": 2,
      "outputs": []
    },
    {
      "cell_type": "markdown",
      "source": [
        "# Import Dataset"
      ],
      "metadata": {
        "id": "El6CyfY3MAfF"
      }
    },
    {
      "cell_type": "code",
      "source": [
        "dataset = pd.read_excel(\"FlightDataset.xlsx\")\n",
        "dataset.head()"
      ],
      "metadata": {
        "colab": {
          "base_uri": "https://localhost:8080/",
          "height": 608
        },
        "id": "qt1i8pyIL_0o",
        "outputId": "de6ffc12-bb30-4daa-92e0-72f50371604e"
      },
      "execution_count": 3,
      "outputs": [
        {
          "output_type": "execute_result",
          "data": {
            "text/plain": [
              "       Airline Date_of_Journey    Source Destination                  Route  \\\n",
              "0       IndiGo      24/03/2019  Banglore   New Delhi              BLR → DEL   \n",
              "1    Air India       1/05/2019   Kolkata    Banglore  CCU → IXR → BBI → BLR   \n",
              "2  Jet Airways       9/06/2019     Delhi      Cochin  DEL → LKO → BOM → COK   \n",
              "3       IndiGo      12/05/2019   Kolkata    Banglore        CCU → NAG → BLR   \n",
              "4       IndiGo      01/03/2019  Banglore   New Delhi        BLR → NAG → DEL   \n",
              "\n",
              "  Dep_Time  Arrival_Time Duration Total_Stops Additional_Info  Price  \n",
              "0    22:20  01:10 22 Mar   2h 50m    non-stop         No info   3897  \n",
              "1    05:50         13:15   7h 25m     2 stops         No info   7662  \n",
              "2    09:25  04:25 10 Jun      19h     2 stops         No info  13882  \n",
              "3    18:05         23:30   5h 25m      1 stop         No info   6218  \n",
              "4    16:50         21:35   4h 45m      1 stop         No info  13302  "
            ],
            "text/html": [
              "\n",
              "  <div id=\"df-7b66e5af-36fc-4207-9ba9-65c0862ca297\">\n",
              "    <div class=\"colab-df-container\">\n",
              "      <div>\n",
              "<style scoped>\n",
              "    .dataframe tbody tr th:only-of-type {\n",
              "        vertical-align: middle;\n",
              "    }\n",
              "\n",
              "    .dataframe tbody tr th {\n",
              "        vertical-align: top;\n",
              "    }\n",
              "\n",
              "    .dataframe thead th {\n",
              "        text-align: right;\n",
              "    }\n",
              "</style>\n",
              "<table border=\"1\" class=\"dataframe\">\n",
              "  <thead>\n",
              "    <tr style=\"text-align: right;\">\n",
              "      <th></th>\n",
              "      <th>Airline</th>\n",
              "      <th>Date_of_Journey</th>\n",
              "      <th>Source</th>\n",
              "      <th>Destination</th>\n",
              "      <th>Route</th>\n",
              "      <th>Dep_Time</th>\n",
              "      <th>Arrival_Time</th>\n",
              "      <th>Duration</th>\n",
              "      <th>Total_Stops</th>\n",
              "      <th>Additional_Info</th>\n",
              "      <th>Price</th>\n",
              "    </tr>\n",
              "  </thead>\n",
              "  <tbody>\n",
              "    <tr>\n",
              "      <th>0</th>\n",
              "      <td>IndiGo</td>\n",
              "      <td>24/03/2019</td>\n",
              "      <td>Banglore</td>\n",
              "      <td>New Delhi</td>\n",
              "      <td>BLR → DEL</td>\n",
              "      <td>22:20</td>\n",
              "      <td>01:10 22 Mar</td>\n",
              "      <td>2h 50m</td>\n",
              "      <td>non-stop</td>\n",
              "      <td>No info</td>\n",
              "      <td>3897</td>\n",
              "    </tr>\n",
              "    <tr>\n",
              "      <th>1</th>\n",
              "      <td>Air India</td>\n",
              "      <td>1/05/2019</td>\n",
              "      <td>Kolkata</td>\n",
              "      <td>Banglore</td>\n",
              "      <td>CCU → IXR → BBI → BLR</td>\n",
              "      <td>05:50</td>\n",
              "      <td>13:15</td>\n",
              "      <td>7h 25m</td>\n",
              "      <td>2 stops</td>\n",
              "      <td>No info</td>\n",
              "      <td>7662</td>\n",
              "    </tr>\n",
              "    <tr>\n",
              "      <th>2</th>\n",
              "      <td>Jet Airways</td>\n",
              "      <td>9/06/2019</td>\n",
              "      <td>Delhi</td>\n",
              "      <td>Cochin</td>\n",
              "      <td>DEL → LKO → BOM → COK</td>\n",
              "      <td>09:25</td>\n",
              "      <td>04:25 10 Jun</td>\n",
              "      <td>19h</td>\n",
              "      <td>2 stops</td>\n",
              "      <td>No info</td>\n",
              "      <td>13882</td>\n",
              "    </tr>\n",
              "    <tr>\n",
              "      <th>3</th>\n",
              "      <td>IndiGo</td>\n",
              "      <td>12/05/2019</td>\n",
              "      <td>Kolkata</td>\n",
              "      <td>Banglore</td>\n",
              "      <td>CCU → NAG → BLR</td>\n",
              "      <td>18:05</td>\n",
              "      <td>23:30</td>\n",
              "      <td>5h 25m</td>\n",
              "      <td>1 stop</td>\n",
              "      <td>No info</td>\n",
              "      <td>6218</td>\n",
              "    </tr>\n",
              "    <tr>\n",
              "      <th>4</th>\n",
              "      <td>IndiGo</td>\n",
              "      <td>01/03/2019</td>\n",
              "      <td>Banglore</td>\n",
              "      <td>New Delhi</td>\n",
              "      <td>BLR → NAG → DEL</td>\n",
              "      <td>16:50</td>\n",
              "      <td>21:35</td>\n",
              "      <td>4h 45m</td>\n",
              "      <td>1 stop</td>\n",
              "      <td>No info</td>\n",
              "      <td>13302</td>\n",
              "    </tr>\n",
              "  </tbody>\n",
              "</table>\n",
              "</div>\n",
              "      <button class=\"colab-df-convert\" onclick=\"convertToInteractive('df-7b66e5af-36fc-4207-9ba9-65c0862ca297')\"\n",
              "              title=\"Convert this dataframe to an interactive table.\"\n",
              "              style=\"display:none;\">\n",
              "        \n",
              "  <svg xmlns=\"http://www.w3.org/2000/svg\" height=\"24px\"viewBox=\"0 0 24 24\"\n",
              "       width=\"24px\">\n",
              "    <path d=\"M0 0h24v24H0V0z\" fill=\"none\"/>\n",
              "    <path d=\"M18.56 5.44l.94 2.06.94-2.06 2.06-.94-2.06-.94-.94-2.06-.94 2.06-2.06.94zm-11 1L8.5 8.5l.94-2.06 2.06-.94-2.06-.94L8.5 2.5l-.94 2.06-2.06.94zm10 10l.94 2.06.94-2.06 2.06-.94-2.06-.94-.94-2.06-.94 2.06-2.06.94z\"/><path d=\"M17.41 7.96l-1.37-1.37c-.4-.4-.92-.59-1.43-.59-.52 0-1.04.2-1.43.59L10.3 9.45l-7.72 7.72c-.78.78-.78 2.05 0 2.83L4 21.41c.39.39.9.59 1.41.59.51 0 1.02-.2 1.41-.59l7.78-7.78 2.81-2.81c.8-.78.8-2.07 0-2.86zM5.41 20L4 18.59l7.72-7.72 1.47 1.35L5.41 20z\"/>\n",
              "  </svg>\n",
              "      </button>\n",
              "      \n",
              "  <style>\n",
              "    .colab-df-container {\n",
              "      display:flex;\n",
              "      flex-wrap:wrap;\n",
              "      gap: 12px;\n",
              "    }\n",
              "\n",
              "    .colab-df-convert {\n",
              "      background-color: #E8F0FE;\n",
              "      border: none;\n",
              "      border-radius: 50%;\n",
              "      cursor: pointer;\n",
              "      display: none;\n",
              "      fill: #1967D2;\n",
              "      height: 32px;\n",
              "      padding: 0 0 0 0;\n",
              "      width: 32px;\n",
              "    }\n",
              "\n",
              "    .colab-df-convert:hover {\n",
              "      background-color: #E2EBFA;\n",
              "      box-shadow: 0px 1px 2px rgba(60, 64, 67, 0.3), 0px 1px 3px 1px rgba(60, 64, 67, 0.15);\n",
              "      fill: #174EA6;\n",
              "    }\n",
              "\n",
              "    [theme=dark] .colab-df-convert {\n",
              "      background-color: #3B4455;\n",
              "      fill: #D2E3FC;\n",
              "    }\n",
              "\n",
              "    [theme=dark] .colab-df-convert:hover {\n",
              "      background-color: #434B5C;\n",
              "      box-shadow: 0px 1px 3px 1px rgba(0, 0, 0, 0.15);\n",
              "      filter: drop-shadow(0px 1px 2px rgba(0, 0, 0, 0.3));\n",
              "      fill: #FFFFFF;\n",
              "    }\n",
              "  </style>\n",
              "\n",
              "      <script>\n",
              "        const buttonEl =\n",
              "          document.querySelector('#df-7b66e5af-36fc-4207-9ba9-65c0862ca297 button.colab-df-convert');\n",
              "        buttonEl.style.display =\n",
              "          google.colab.kernel.accessAllowed ? 'block' : 'none';\n",
              "\n",
              "        async function convertToInteractive(key) {\n",
              "          const element = document.querySelector('#df-7b66e5af-36fc-4207-9ba9-65c0862ca297');\n",
              "          const dataTable =\n",
              "            await google.colab.kernel.invokeFunction('convertToInteractive',\n",
              "                                                     [key], {});\n",
              "          if (!dataTable) return;\n",
              "\n",
              "          const docLinkHtml = 'Like what you see? Visit the ' +\n",
              "            '<a target=\"_blank\" href=https://colab.research.google.com/notebooks/data_table.ipynb>data table notebook</a>'\n",
              "            + ' to learn more about interactive tables.';\n",
              "          element.innerHTML = '';\n",
              "          dataTable['output_type'] = 'display_data';\n",
              "          await google.colab.output.renderOutput(dataTable, element);\n",
              "          const docLink = document.createElement('div');\n",
              "          docLink.innerHTML = docLinkHtml;\n",
              "          element.appendChild(docLink);\n",
              "        }\n",
              "      </script>\n",
              "    </div>\n",
              "  </div>\n",
              "  "
            ]
          },
          "metadata": {},
          "execution_count": 3
        }
      ]
    },
    {
      "cell_type": "markdown",
      "source": [
        "# Preprocessing"
      ],
      "metadata": {
        "id": "p8umYKoFMJG_"
      }
    },
    {
      "cell_type": "code",
      "source": [
        "dataset.isnull().sum()\n",
        "dataset.dropna(inplace = True)"
      ],
      "metadata": {
        "id": "UhrEXLfpMKsB"
      },
      "execution_count": 4,
      "outputs": []
    },
    {
      "cell_type": "code",
      "source": [
        "dataset[\"Airline\"].value_counts()"
      ],
      "metadata": {
        "colab": {
          "base_uri": "https://localhost:8080/"
        },
        "id": "R57w68qGNYoi",
        "outputId": "2664888e-5b59-47c3-9fc1-dc76fe4a5de7"
      },
      "execution_count": 5,
      "outputs": [
        {
          "output_type": "execute_result",
          "data": {
            "text/plain": [
              "Jet Airways                          3849\n",
              "IndiGo                               2053\n",
              "Air India                            1751\n",
              "Multiple carriers                    1196\n",
              "SpiceJet                              818\n",
              "Vistara                               479\n",
              "Air Asia                              319\n",
              "GoAir                                 194\n",
              "Multiple carriers Premium economy      13\n",
              "Jet Airways Business                    6\n",
              "Vistara Premium economy                 3\n",
              "Trujet                                  1\n",
              "Name: Airline, dtype: int64"
            ]
          },
          "metadata": {},
          "execution_count": 5
        }
      ]
    },
    {
      "cell_type": "code",
      "source": [
        "dataset = dataset[dataset[\"Airline\"] != 'Trujet']\n",
        "dataset = dataset[dataset[\"Airline\"] != 'Vistara Premium economy']\n",
        "dataset = dataset[dataset[\"Airline\"] != 'Jet Airways Business']\n",
        "dataset = dataset[dataset[\"Airline\"] != 'Multiple carriers Premium economy']\n",
        "dataset = dataset[dataset[\"Airline\"] != 'GoAir']"
      ],
      "metadata": {
        "id": "STx_tn6sNi4z"
      },
      "execution_count": 6,
      "outputs": []
    },
    {
      "cell_type": "code",
      "source": [
        "dataset.info()"
      ],
      "metadata": {
        "colab": {
          "base_uri": "https://localhost:8080/"
        },
        "id": "jsF8xVn9HVXY",
        "outputId": "f76dfc27-b642-41b7-c8fc-d45e29a1138f"
      },
      "execution_count": 7,
      "outputs": [
        {
          "output_type": "stream",
          "name": "stdout",
          "text": [
            "<class 'pandas.core.frame.DataFrame'>\n",
            "Int64Index: 10465 entries, 0 to 10682\n",
            "Data columns (total 11 columns):\n",
            " #   Column           Non-Null Count  Dtype \n",
            "---  ------           --------------  ----- \n",
            " 0   Airline          10465 non-null  object\n",
            " 1   Date_of_Journey  10465 non-null  object\n",
            " 2   Source           10465 non-null  object\n",
            " 3   Destination      10465 non-null  object\n",
            " 4   Route            10465 non-null  object\n",
            " 5   Dep_Time         10465 non-null  object\n",
            " 6   Arrival_Time     10465 non-null  object\n",
            " 7   Duration         10465 non-null  object\n",
            " 8   Total_Stops      10465 non-null  object\n",
            " 9   Additional_Info  10465 non-null  object\n",
            " 10  Price            10465 non-null  int64 \n",
            "dtypes: int64(1), object(10)\n",
            "memory usage: 981.1+ KB\n"
          ]
        }
      ]
    },
    {
      "cell_type": "code",
      "source": [
        "dataset[\"Journey-Date\"] = pd.to_datetime(dataset.Date_of_Journey, format=\"%d/%m/%Y\").dt.day\n",
        "dataset[\"Journey-Month\"] = pd.to_datetime(dataset.Date_of_Journey, format = \"%d/%m/%Y\").dt.month"
      ],
      "metadata": {
        "id": "BVn_LCtALlJs"
      },
      "execution_count": 8,
      "outputs": []
    },
    {
      "cell_type": "code",
      "source": [
        "dataset[\"Departure-Hour\"] = pd.to_datetime(dataset.Dep_Time).dt.hour\n",
        "dataset[\"Departure-Minutes\"] = pd.to_datetime(dataset.Dep_Time).dt.minute"
      ],
      "metadata": {
        "id": "1r9U43CwNKe7"
      },
      "execution_count": 9,
      "outputs": []
    },
    {
      "cell_type": "code",
      "source": [
        "dataset[\"Arrival-Hour\"] = pd.to_datetime(dataset.Arrival_Time).dt.hour\n",
        "dataset[\"Arrival-Minutes\"] = pd.to_datetime(dataset.Arrival_Time).dt.minute"
      ],
      "metadata": {
        "id": "TIa1Uw6qOxIA"
      },
      "execution_count": 10,
      "outputs": []
    },
    {
      "cell_type": "code",
      "source": [
        "journey_length = list(dataset[\"Duration\"])\n",
        "\n",
        "for i in range(len(journey_length)):\n",
        "    if len(journey_length[i].split()) != 2:\n",
        "        if \"h\" in journey_length[i]: journey_length[i] = journey_length[i].strip() + \" 0m\"\n",
        "        else: journey_length[i] = \"0h \" + journey_length[i]\n",
        "\n",
        "dh, dm = [], []\n",
        "for i in range(len(journey_length)):\n",
        "    dh.append(int(journey_length[i].split(sep = \"h\")[0]))\n",
        "    dm.append(int(journey_length[i].split(sep = \"m\")[0].split()[-1]))\n",
        "\n",
        "dataset[\"Duration-Hour\"], dataset[\"Duration-Minutes\"] = dh, dm"
      ],
      "metadata": {
        "id": "O4nCKXBVQoel"
      },
      "execution_count": 11,
      "outputs": []
    },
    {
      "cell_type": "code",
      "source": [
        "#dataset = dataset.drop([\"Additional_Info\", \"Arrival_Time\", \"Dep_Time\", \"Duration\", \"Date_of_Journey\", \"Route\"], axis = 1)"
      ],
      "metadata": {
        "id": "O_dsgy_5PC0G"
      },
      "execution_count": 12,
      "outputs": []
    },
    {
      "cell_type": "code",
      "source": [
        "dataset.replace({\"non-stop\": 0, \"1 stop\": 1, \"2 stops\": 2, \"3 stops\": 3, \"4 stops\": 4}, inplace = True)"
      ],
      "metadata": {
        "id": "ke7e8LFnUnD1"
      },
      "execution_count": 13,
      "outputs": []
    },
    {
      "cell_type": "code",
      "source": [
        "dataset.tail()"
      ],
      "metadata": {
        "colab": {
          "base_uri": "https://localhost:8080/",
          "height": 523
        },
        "id": "_EK7goZMSdKj",
        "outputId": "d1d072f2-b84d-4c69-e066-275bacd73ca1"
      },
      "execution_count": 14,
      "outputs": [
        {
          "output_type": "execute_result",
          "data": {
            "text/plain": [
              "           Airline Date_of_Journey    Source Destination  \\\n",
              "10678     Air Asia       9/04/2019   Kolkata    Banglore   \n",
              "10679    Air India      27/04/2019   Kolkata    Banglore   \n",
              "10680  Jet Airways      27/04/2019  Banglore       Delhi   \n",
              "10681      Vistara      01/03/2019  Banglore   New Delhi   \n",
              "10682    Air India       9/05/2019     Delhi      Cochin   \n",
              "\n",
              "                       Route Dep_Time Arrival_Time Duration  Total_Stops  \\\n",
              "10678              CCU → BLR    19:55        22:25   2h 30m            0   \n",
              "10679              CCU → BLR    20:45        23:20   2h 35m            0   \n",
              "10680              BLR → DEL    08:20        11:20       3h            0   \n",
              "10681              BLR → DEL    11:30        14:10   2h 40m            0   \n",
              "10682  DEL → GOI → BOM → COK    10:55        19:15   8h 20m            2   \n",
              "\n",
              "      Additional_Info  Price  Journey-Date  Journey-Month  Departure-Hour  \\\n",
              "10678         No info   4107             9              4              19   \n",
              "10679         No info   4145            27              4              20   \n",
              "10680         No info   7229            27              4               8   \n",
              "10681         No info  12648             1              3              11   \n",
              "10682         No info  11753             9              5              10   \n",
              "\n",
              "       Departure-Minutes  Arrival-Hour  Arrival-Minutes  Duration-Hour  \\\n",
              "10678                 55            22               25              2   \n",
              "10679                 45            23               20              2   \n",
              "10680                 20            11               20              3   \n",
              "10681                 30            14               10              2   \n",
              "10682                 55            19               15              8   \n",
              "\n",
              "       Duration-Minutes  \n",
              "10678                30  \n",
              "10679                35  \n",
              "10680                 0  \n",
              "10681                40  \n",
              "10682                20  "
            ],
            "text/html": [
              "\n",
              "  <div id=\"df-61644f5a-5c55-4216-a305-5e60168087d8\">\n",
              "    <div class=\"colab-df-container\">\n",
              "      <div>\n",
              "<style scoped>\n",
              "    .dataframe tbody tr th:only-of-type {\n",
              "        vertical-align: middle;\n",
              "    }\n",
              "\n",
              "    .dataframe tbody tr th {\n",
              "        vertical-align: top;\n",
              "    }\n",
              "\n",
              "    .dataframe thead th {\n",
              "        text-align: right;\n",
              "    }\n",
              "</style>\n",
              "<table border=\"1\" class=\"dataframe\">\n",
              "  <thead>\n",
              "    <tr style=\"text-align: right;\">\n",
              "      <th></th>\n",
              "      <th>Airline</th>\n",
              "      <th>Date_of_Journey</th>\n",
              "      <th>Source</th>\n",
              "      <th>Destination</th>\n",
              "      <th>Route</th>\n",
              "      <th>Dep_Time</th>\n",
              "      <th>Arrival_Time</th>\n",
              "      <th>Duration</th>\n",
              "      <th>Total_Stops</th>\n",
              "      <th>Additional_Info</th>\n",
              "      <th>Price</th>\n",
              "      <th>Journey-Date</th>\n",
              "      <th>Journey-Month</th>\n",
              "      <th>Departure-Hour</th>\n",
              "      <th>Departure-Minutes</th>\n",
              "      <th>Arrival-Hour</th>\n",
              "      <th>Arrival-Minutes</th>\n",
              "      <th>Duration-Hour</th>\n",
              "      <th>Duration-Minutes</th>\n",
              "    </tr>\n",
              "  </thead>\n",
              "  <tbody>\n",
              "    <tr>\n",
              "      <th>10678</th>\n",
              "      <td>Air Asia</td>\n",
              "      <td>9/04/2019</td>\n",
              "      <td>Kolkata</td>\n",
              "      <td>Banglore</td>\n",
              "      <td>CCU → BLR</td>\n",
              "      <td>19:55</td>\n",
              "      <td>22:25</td>\n",
              "      <td>2h 30m</td>\n",
              "      <td>0</td>\n",
              "      <td>No info</td>\n",
              "      <td>4107</td>\n",
              "      <td>9</td>\n",
              "      <td>4</td>\n",
              "      <td>19</td>\n",
              "      <td>55</td>\n",
              "      <td>22</td>\n",
              "      <td>25</td>\n",
              "      <td>2</td>\n",
              "      <td>30</td>\n",
              "    </tr>\n",
              "    <tr>\n",
              "      <th>10679</th>\n",
              "      <td>Air India</td>\n",
              "      <td>27/04/2019</td>\n",
              "      <td>Kolkata</td>\n",
              "      <td>Banglore</td>\n",
              "      <td>CCU → BLR</td>\n",
              "      <td>20:45</td>\n",
              "      <td>23:20</td>\n",
              "      <td>2h 35m</td>\n",
              "      <td>0</td>\n",
              "      <td>No info</td>\n",
              "      <td>4145</td>\n",
              "      <td>27</td>\n",
              "      <td>4</td>\n",
              "      <td>20</td>\n",
              "      <td>45</td>\n",
              "      <td>23</td>\n",
              "      <td>20</td>\n",
              "      <td>2</td>\n",
              "      <td>35</td>\n",
              "    </tr>\n",
              "    <tr>\n",
              "      <th>10680</th>\n",
              "      <td>Jet Airways</td>\n",
              "      <td>27/04/2019</td>\n",
              "      <td>Banglore</td>\n",
              "      <td>Delhi</td>\n",
              "      <td>BLR → DEL</td>\n",
              "      <td>08:20</td>\n",
              "      <td>11:20</td>\n",
              "      <td>3h</td>\n",
              "      <td>0</td>\n",
              "      <td>No info</td>\n",
              "      <td>7229</td>\n",
              "      <td>27</td>\n",
              "      <td>4</td>\n",
              "      <td>8</td>\n",
              "      <td>20</td>\n",
              "      <td>11</td>\n",
              "      <td>20</td>\n",
              "      <td>3</td>\n",
              "      <td>0</td>\n",
              "    </tr>\n",
              "    <tr>\n",
              "      <th>10681</th>\n",
              "      <td>Vistara</td>\n",
              "      <td>01/03/2019</td>\n",
              "      <td>Banglore</td>\n",
              "      <td>New Delhi</td>\n",
              "      <td>BLR → DEL</td>\n",
              "      <td>11:30</td>\n",
              "      <td>14:10</td>\n",
              "      <td>2h 40m</td>\n",
              "      <td>0</td>\n",
              "      <td>No info</td>\n",
              "      <td>12648</td>\n",
              "      <td>1</td>\n",
              "      <td>3</td>\n",
              "      <td>11</td>\n",
              "      <td>30</td>\n",
              "      <td>14</td>\n",
              "      <td>10</td>\n",
              "      <td>2</td>\n",
              "      <td>40</td>\n",
              "    </tr>\n",
              "    <tr>\n",
              "      <th>10682</th>\n",
              "      <td>Air India</td>\n",
              "      <td>9/05/2019</td>\n",
              "      <td>Delhi</td>\n",
              "      <td>Cochin</td>\n",
              "      <td>DEL → GOI → BOM → COK</td>\n",
              "      <td>10:55</td>\n",
              "      <td>19:15</td>\n",
              "      <td>8h 20m</td>\n",
              "      <td>2</td>\n",
              "      <td>No info</td>\n",
              "      <td>11753</td>\n",
              "      <td>9</td>\n",
              "      <td>5</td>\n",
              "      <td>10</td>\n",
              "      <td>55</td>\n",
              "      <td>19</td>\n",
              "      <td>15</td>\n",
              "      <td>8</td>\n",
              "      <td>20</td>\n",
              "    </tr>\n",
              "  </tbody>\n",
              "</table>\n",
              "</div>\n",
              "      <button class=\"colab-df-convert\" onclick=\"convertToInteractive('df-61644f5a-5c55-4216-a305-5e60168087d8')\"\n",
              "              title=\"Convert this dataframe to an interactive table.\"\n",
              "              style=\"display:none;\">\n",
              "        \n",
              "  <svg xmlns=\"http://www.w3.org/2000/svg\" height=\"24px\"viewBox=\"0 0 24 24\"\n",
              "       width=\"24px\">\n",
              "    <path d=\"M0 0h24v24H0V0z\" fill=\"none\"/>\n",
              "    <path d=\"M18.56 5.44l.94 2.06.94-2.06 2.06-.94-2.06-.94-.94-2.06-.94 2.06-2.06.94zm-11 1L8.5 8.5l.94-2.06 2.06-.94-2.06-.94L8.5 2.5l-.94 2.06-2.06.94zm10 10l.94 2.06.94-2.06 2.06-.94-2.06-.94-.94-2.06-.94 2.06-2.06.94z\"/><path d=\"M17.41 7.96l-1.37-1.37c-.4-.4-.92-.59-1.43-.59-.52 0-1.04.2-1.43.59L10.3 9.45l-7.72 7.72c-.78.78-.78 2.05 0 2.83L4 21.41c.39.39.9.59 1.41.59.51 0 1.02-.2 1.41-.59l7.78-7.78 2.81-2.81c.8-.78.8-2.07 0-2.86zM5.41 20L4 18.59l7.72-7.72 1.47 1.35L5.41 20z\"/>\n",
              "  </svg>\n",
              "      </button>\n",
              "      \n",
              "  <style>\n",
              "    .colab-df-container {\n",
              "      display:flex;\n",
              "      flex-wrap:wrap;\n",
              "      gap: 12px;\n",
              "    }\n",
              "\n",
              "    .colab-df-convert {\n",
              "      background-color: #E8F0FE;\n",
              "      border: none;\n",
              "      border-radius: 50%;\n",
              "      cursor: pointer;\n",
              "      display: none;\n",
              "      fill: #1967D2;\n",
              "      height: 32px;\n",
              "      padding: 0 0 0 0;\n",
              "      width: 32px;\n",
              "    }\n",
              "\n",
              "    .colab-df-convert:hover {\n",
              "      background-color: #E2EBFA;\n",
              "      box-shadow: 0px 1px 2px rgba(60, 64, 67, 0.3), 0px 1px 3px 1px rgba(60, 64, 67, 0.15);\n",
              "      fill: #174EA6;\n",
              "    }\n",
              "\n",
              "    [theme=dark] .colab-df-convert {\n",
              "      background-color: #3B4455;\n",
              "      fill: #D2E3FC;\n",
              "    }\n",
              "\n",
              "    [theme=dark] .colab-df-convert:hover {\n",
              "      background-color: #434B5C;\n",
              "      box-shadow: 0px 1px 3px 1px rgba(0, 0, 0, 0.15);\n",
              "      filter: drop-shadow(0px 1px 2px rgba(0, 0, 0, 0.3));\n",
              "      fill: #FFFFFF;\n",
              "    }\n",
              "  </style>\n",
              "\n",
              "      <script>\n",
              "        const buttonEl =\n",
              "          document.querySelector('#df-61644f5a-5c55-4216-a305-5e60168087d8 button.colab-df-convert');\n",
              "        buttonEl.style.display =\n",
              "          google.colab.kernel.accessAllowed ? 'block' : 'none';\n",
              "\n",
              "        async function convertToInteractive(key) {\n",
              "          const element = document.querySelector('#df-61644f5a-5c55-4216-a305-5e60168087d8');\n",
              "          const dataTable =\n",
              "            await google.colab.kernel.invokeFunction('convertToInteractive',\n",
              "                                                     [key], {});\n",
              "          if (!dataTable) return;\n",
              "\n",
              "          const docLinkHtml = 'Like what you see? Visit the ' +\n",
              "            '<a target=\"_blank\" href=https://colab.research.google.com/notebooks/data_table.ipynb>data table notebook</a>'\n",
              "            + ' to learn more about interactive tables.';\n",
              "          element.innerHTML = '';\n",
              "          dataTable['output_type'] = 'display_data';\n",
              "          await google.colab.output.renderOutput(dataTable, element);\n",
              "          const docLink = document.createElement('div');\n",
              "          docLink.innerHTML = docLinkHtml;\n",
              "          element.appendChild(docLink);\n",
              "        }\n",
              "      </script>\n",
              "    </div>\n",
              "  </div>\n",
              "  "
            ]
          },
          "metadata": {},
          "execution_count": 14
        }
      ]
    },
    {
      "cell_type": "markdown",
      "source": [
        "# Exploratory Data Analysis"
      ],
      "metadata": {
        "id": "9JvLQEsZQfgY"
      }
    },
    {
      "cell_type": "code",
      "source": [
        "import matplotlib.pyplot as plt\n",
        "import seaborn as sns\n",
        "import matplotlib as plt\n",
        "from matplotlib import rcParams\n",
        "import numpy as np\n",
        "sns.set_style(\"darkgrid\")\n",
        "\n",
        "sns.set(font_scale = 1.5)\n",
        "rcParams['figure.figsize'] = 15,12\n",
        "sns.set_style(\"darkgrid\")\n",
        "colors = [\"g\", \"o\"]\n",
        "\n",
        "ax = sns.boxenplot(x = 'Airline', y = 'Price', hue=\"Airline\", data=dataset, dodge =False, palette=\"Greens\")\n",
        "ax.get_legend().set_visible(False)"
      ],
      "metadata": {
        "colab": {
          "base_uri": "https://localhost:8080/",
          "height": 733
        },
        "id": "YA6wgk1tPT6T",
        "outputId": "524364c7-ccbc-4a37-f31a-1c7704a23309"
      },
      "execution_count": 15,
      "outputs": [
        {
          "output_type": "display_data",
          "data": {
            "text/plain": [
              "<Figure size 1080x864 with 1 Axes>"
            ],
            "image/png": "[encoded data removed]"
          },
          "metadata": {}
        }
      ]
    },
    {
      "cell_type": "code",
      "source": [
        "import matplotlib.pyplot as plt\n",
        "import seaborn as sns\n",
        "import matplotlib as plt\n",
        "from matplotlib import rcParams\n",
        "import numpy as np\n",
        "sns.set_style(\"darkgrid\")\n",
        "\n",
        "sns.set(font_scale = 1.5)\n",
        "rcParams['figure.figsize'] = 15,12\n",
        "sns.set_style(\"darkgrid\")\n",
        "colors = [\"g\", \"o\"]\n",
        "\n",
        "ax = sns.boxenplot(x = 'Source', y = 'Price', hue=\"Source\", data=dataset, dodge =False)\n",
        "ax.get_legend().set_visible(False)"
      ],
      "metadata": {
        "colab": {
          "base_uri": "https://localhost:8080/",
          "height": 733
        },
        "id": "MMotonzvUIUU",
        "outputId": "4012f4a3-ae85-4648-8b8c-a65227ecc079"
      },
      "execution_count": 16,
      "outputs": [
        {
          "output_type": "display_data",
          "data": {
            "text/plain": [
              "<Figure size 1080x864 with 1 Axes>"
            ],
            "image/png": "[encoded data removed]"
          },
          "metadata": {}
        }
      ]
    },
    {
      "cell_type": "code",
      "source": [
        "import matplotlib.pyplot as plt\n",
        "import seaborn as sns\n",
        "import matplotlib as plt\n",
        "from matplotlib import rcParams\n",
        "import numpy as np\n",
        "sns.set_style(\"darkgrid\")\n",
        "\n",
        "sns.set(font_scale = 1.5)\n",
        "rcParams['figure.figsize'] = 15,12\n",
        "sns.set_style(\"darkgrid\")\n",
        "colors = [\"g\", \"o\"]\n",
        "\n",
        "ax = sns.boxenplot(x = 'Destination', y = 'Price', hue=\"Destination\", data=dataset, dodge =False)\n",
        "ax.get_legend().set_visible(False)"
      ],
      "metadata": {
        "colab": {
          "base_uri": "https://localhost:8080/",
          "height": 733
        },
        "id": "jTWpVIM9URgc",
        "outputId": "c9f74579-88a8-49d9-cc11-321c41c97608"
      },
      "execution_count": 17,
      "outputs": [
        {
          "output_type": "display_data",
          "data": {
            "text/plain": [
              "<Figure size 1080x864 with 1 Axes>"
            ],
            "image/png": "[encoded data removed]"
          },
          "metadata": {}
        }
      ]
    },
    {
      "cell_type": "code",
      "source": [
        "Airline = pd.get_dummies(dataset[[\"Airline\"]], drop_first= True)\n",
        "Source = pd.get_dummies(dataset[[\"Source\"]], drop_first= True)\n",
        "Destination = pd.get_dummies(dataset[[\"Destination\"]], drop_first= True)"
      ],
      "metadata": {
        "id": "tiiiNrqJS3pE"
      },
      "execution_count": 18,
      "outputs": []
    },
    {
      "cell_type": "code",
      "source": [
        "dataset = pd.concat([dataset, Airline, Source, Destination], axis = 1)"
      ],
      "metadata": {
        "id": "J-KnE_FZVMiw"
      },
      "execution_count": 19,
      "outputs": []
    },
    {
      "cell_type": "code",
      "source": [
        "dataset = dataset.drop([\"Additional_Info\", \"Arrival_Time\", \"Dep_Time\", \"Duration\", \"Date_of_Journey\", \"Route\", \"Airline\", \"Source\", \"Destination\"], axis = 1)"
      ],
      "metadata": {
        "id": "D2HY0SifVZfU"
      },
      "execution_count": 20,
      "outputs": []
    },
    {
      "cell_type": "code",
      "source": [
        "labels = np.array(dataset['Price'])\n",
        "features= dataset.drop('Price', axis = 1)\n",
        "\n",
        "feature_list = list(features.columns)\n",
        "features = np.array(features)\n",
        "\n",
        "# Split the data into training and testing sets\n",
        "train_features, test_features, train_labels, test_labels = train_test_split(features, labels, test_size = 0.25, random_state = 42)\n",
        "\n",
        "print('Training Features Shape:', train_features.shape)\n",
        "print('Training Labels Shape:', train_labels.shape)\n",
        "print('Testing Features Shape:', test_features.shape)\n",
        "print('Testing Labels Shape:', test_labels.shape)"
      ],
      "metadata": {
        "colab": {
          "base_uri": "https://localhost:8080/"
        },
        "id": "pk54e9UzVmo4",
        "outputId": "34ef0a22-e851-43cf-901d-4b9abc1489a8"
      },
      "execution_count": 21,
      "outputs": [
        {
          "output_type": "stream",
          "name": "stdout",
          "text": [
            "Training Features Shape: (7848, 24)\n",
            "Training Labels Shape: (7848,)\n",
            "Testing Features Shape: (2617, 24)\n",
            "Testing Labels Shape: (2617,)\n"
          ]
        }
      ]
    },
    {
      "cell_type": "code",
      "source": [
        "#Random Forest Classifier\n",
        "\n",
        "rf = RandomForestClassifier(n_estimators = 100, random_state = 42)\n",
        "rf.fit(train_features, train_labels)\n",
        "\n",
        "\n",
        "# Use the forest's predict method on the test data\n",
        "predictions = rf.predict(test_features)\n",
        "# Calculate the absolute errors\n",
        "errors = abs(predictions - test_labels)\n",
        "# Print out the mean absolute error (mae)\n",
        "print('\\n\\nMean Absolute Error:', round(np.mean(errors), 2))\n",
        "\n",
        "\n",
        "# Calculating Accuracy \n",
        "print(\"\\n\\nAccuracy Score:\",accuracy_score(test_labels, predictions))\n",
        "\n",
        "\n",
        "# Calculating Recall \n",
        "print(\"\\n\\nRecall Score:\",recall_score(test_labels, predictions, average='macro'))\n",
        "\n",
        "\n",
        "# Calculating F1 Score \n",
        "print(\"\\n\\nF1 Score:\",f1_score(test_labels, predictions, average='macro'))"
      ],
      "metadata": {
        "colab": {
          "base_uri": "https://localhost:8080/"
        },
        "id": "l9YLWe2xV7nT",
        "outputId": "ae4e6c45-9d41-43ca-d391-830d56e714a4"
      },
      "execution_count": 22,
      "outputs": [
        {
          "output_type": "stream",
          "name": "stdout",
          "text": [
            "\n",
            "\n",
            "Mean Absolute Error: 1473.63\n",
            "\n",
            "\n",
            "Accuracy Score: 0.35995414596866643\n",
            "\n",
            "\n",
            "Recall Score: 0.1736086177838908\n",
            "\n",
            "\n",
            "F1 Score: 0.15634446319360668\n"
          ]
        }
      ]
    },
    {
      "cell_type": "code",
      "source": [
        "#Randomized Search CV\n",
        "\n",
        "# Number of trees in random forest\n",
        "n_estimators = [int(x) for x in np.linspace(start = 50, stop = 120, num = 12)]\n",
        "# Number of features to consider at every split\n",
        "max_features = ['auto']\n",
        "# Maximum number of levels in tree\n",
        "max_depth = [int(x) for x in np.linspace(5, 10, num = 6)]\n",
        "# Minimum number of samples required to split a node\n",
        "min_samples_split = [2, 5, 10]\n",
        "# Minimum number of samples required at each leaf node\n",
        "min_samples_leaf = [1, 2, 5]"
      ],
      "metadata": {
        "id": "gpLIB4xRWFKu"
      },
      "execution_count": 23,
      "outputs": []
    },
    {
      "cell_type": "code",
      "source": [
        "# Create the random grid\n",
        "\n",
        "random_grid = {'n_estimators': n_estimators,\n",
        "               'max_features': max_features,\n",
        "               'max_depth': max_depth,\n",
        "               'min_samples_split': min_samples_split,\n",
        "               'min_samples_leaf': min_samples_leaf}"
      ],
      "metadata": {
        "id": "Z20aa_mMWL5Y"
      },
      "execution_count": 24,
      "outputs": []
    },
    {
      "cell_type": "code",
      "source": [
        "# Random search of parameters, using 5 fold cross validation, \n",
        "# search across 100 different combinations\n",
        "rf_random = RandomizedSearchCV(estimator = rf, param_distributions = random_grid,scoring='neg_mean_squared_error', n_iter = 10, cv = 5, verbose=2, random_state=42, n_jobs = 1)"
      ],
      "metadata": {
        "id": "wq9wA10lWNtX"
      },
      "execution_count": 25,
      "outputs": []
    },
    {
      "cell_type": "code",
      "source": [
        "rf_random.fit(train_features,train_labels)"
      ],
      "metadata": {
        "colab": {
          "base_uri": "https://localhost:8080/"
        },
        "id": "aCTOYk0OWPUc",
        "outputId": "a2c8f027-fb72-4ebf-8cd1-65e00cc988d1"
      },
      "execution_count": 26,
      "outputs": [
        {
          "output_type": "stream",
          "name": "stdout",
          "text": [
            "Fitting 5 folds for each of 10 candidates, totalling 50 fits\n",
            "[CV] END max_depth=10, max_features=auto, min_samples_leaf=5, min_samples_split=5, n_estimators=120; total time=   2.8s\n",
            "[CV] END max_depth=10, max_features=auto, min_samples_leaf=5, min_samples_split=5, n_estimators=120; total time=   3.0s\n",
            "[CV] END max_depth=10, max_features=auto, min_samples_leaf=5, min_samples_split=5, n_estimators=120; total time=   2.6s\n",
            "[CV] END max_depth=10, max_features=auto, min_samples_leaf=5, min_samples_split=5, n_estimators=120; total time=   2.8s\n",
            "[CV] END max_depth=10, max_features=auto, min_samples_leaf=5, min_samples_split=5, n_estimators=120; total time=   4.1s\n",
            "[CV] END max_depth=7, max_features=auto, min_samples_leaf=1, min_samples_split=2, n_estimators=75; total time=   2.5s\n",
            "[CV] END max_depth=7, max_features=auto, min_samples_leaf=1, min_samples_split=2, n_estimators=75; total time=   2.1s\n",
            "[CV] END max_depth=7, max_features=auto, min_samples_leaf=1, min_samples_split=2, n_estimators=75; total time=   1.4s\n",
            "[CV] END max_depth=7, max_features=auto, min_samples_leaf=1, min_samples_split=2, n_estimators=75; total time=   1.4s\n",
            "[CV] END max_depth=7, max_features=auto, min_samples_leaf=1, min_samples_split=2, n_estimators=75; total time=   1.4s\n",
            "[CV] END max_depth=10, max_features=auto, min_samples_leaf=2, min_samples_split=5, n_estimators=81; total time=   2.1s\n",
            "[CV] END max_depth=10, max_features=auto, min_samples_leaf=2, min_samples_split=5, n_estimators=81; total time=   2.1s\n",
            "[CV] END max_depth=10, max_features=auto, min_samples_leaf=2, min_samples_split=5, n_estimators=81; total time=   2.9s\n",
            "[CV] END max_depth=10, max_features=auto, min_samples_leaf=2, min_samples_split=5, n_estimators=81; total time=   2.1s\n",
            "[CV] END max_depth=10, max_features=auto, min_samples_leaf=2, min_samples_split=5, n_estimators=81; total time=   2.0s\n",
            "[CV] END max_depth=8, max_features=auto, min_samples_leaf=5, min_samples_split=10, n_estimators=107; total time=   2.0s\n",
            "[CV] END max_depth=8, max_features=auto, min_samples_leaf=5, min_samples_split=10, n_estimators=107; total time=   2.0s\n",
            "[CV] END max_depth=8, max_features=auto, min_samples_leaf=5, min_samples_split=10, n_estimators=107; total time=   2.0s\n",
            "[CV] END max_depth=8, max_features=auto, min_samples_leaf=5, min_samples_split=10, n_estimators=107; total time=   2.0s\n",
            "[CV] END max_depth=8, max_features=auto, min_samples_leaf=5, min_samples_split=10, n_estimators=107; total time=   2.1s\n",
            "[CV] END max_depth=5, max_features=auto, min_samples_leaf=5, min_samples_split=2, n_estimators=50; total time=   0.6s\n",
            "[CV] END max_depth=5, max_features=auto, min_samples_leaf=5, min_samples_split=2, n_estimators=50; total time=   0.6s\n",
            "[CV] END max_depth=5, max_features=auto, min_samples_leaf=5, min_samples_split=2, n_estimators=50; total time=   0.6s\n",
            "[CV] END max_depth=5, max_features=auto, min_samples_leaf=5, min_samples_split=2, n_estimators=50; total time=   0.6s\n",
            "[CV] END max_depth=5, max_features=auto, min_samples_leaf=5, min_samples_split=2, n_estimators=50; total time=   0.6s\n",
            "[CV] END max_depth=9, max_features=auto, min_samples_leaf=1, min_samples_split=5, n_estimators=75; total time=   1.7s\n",
            "[CV] END max_depth=9, max_features=auto, min_samples_leaf=1, min_samples_split=5, n_estimators=75; total time=   1.8s\n",
            "[CV] END max_depth=9, max_features=auto, min_samples_leaf=1, min_samples_split=5, n_estimators=75; total time=   1.7s\n",
            "[CV] END max_depth=9, max_features=auto, min_samples_leaf=1, min_samples_split=5, n_estimators=75; total time=   1.7s\n",
            "[CV] END max_depth=9, max_features=auto, min_samples_leaf=1, min_samples_split=5, n_estimators=75; total time=   1.8s\n",
            "[CV] END max_depth=6, max_features=auto, min_samples_leaf=5, min_samples_split=2, n_estimators=56; total time=   0.9s\n",
            "[CV] END max_depth=6, max_features=auto, min_samples_leaf=5, min_samples_split=2, n_estimators=56; total time=   0.9s\n",
            "[CV] END max_depth=6, max_features=auto, min_samples_leaf=5, min_samples_split=2, n_estimators=56; total time=   0.9s\n",
            "[CV] END max_depth=6, max_features=auto, min_samples_leaf=5, min_samples_split=2, n_estimators=56; total time=   0.9s\n",
            "[CV] END max_depth=6, max_features=auto, min_samples_leaf=5, min_samples_split=2, n_estimators=56; total time=   0.9s\n",
            "[CV] END max_depth=6, max_features=auto, min_samples_leaf=1, min_samples_split=5, n_estimators=120; total time=   2.0s\n",
            "[CV] END max_depth=6, max_features=auto, min_samples_leaf=1, min_samples_split=5, n_estimators=120; total time=   2.0s\n",
            "[CV] END max_depth=6, max_features=auto, min_samples_leaf=1, min_samples_split=5, n_estimators=120; total time=   2.0s\n",
            "[CV] END max_depth=6, max_features=auto, min_samples_leaf=1, min_samples_split=5, n_estimators=120; total time=   2.0s\n",
            "[CV] END max_depth=6, max_features=auto, min_samples_leaf=1, min_samples_split=5, n_estimators=120; total time=   2.0s\n",
            "[CV] END max_depth=7, max_features=auto, min_samples_leaf=1, min_samples_split=5, n_estimators=69; total time=   1.3s\n",
            "[CV] END max_depth=7, max_features=auto, min_samples_leaf=1, min_samples_split=5, n_estimators=69; total time=   1.3s\n",
            "[CV] END max_depth=7, max_features=auto, min_samples_leaf=1, min_samples_split=5, n_estimators=69; total time=   1.3s\n",
            "[CV] END max_depth=7, max_features=auto, min_samples_leaf=1, min_samples_split=5, n_estimators=69; total time=   1.3s\n",
            "[CV] END max_depth=7, max_features=auto, min_samples_leaf=1, min_samples_split=5, n_estimators=69; total time=   1.3s\n",
            "[CV] END max_depth=7, max_features=auto, min_samples_leaf=2, min_samples_split=10, n_estimators=56; total time=   1.0s\n",
            "[CV] END max_depth=7, max_features=auto, min_samples_leaf=2, min_samples_split=10, n_estimators=56; total time=   1.0s\n",
            "[CV] END max_depth=7, max_features=auto, min_samples_leaf=2, min_samples_split=10, n_estimators=56; total time=   1.0s\n",
            "[CV] END max_depth=7, max_features=auto, min_samples_leaf=2, min_samples_split=10, n_estimators=56; total time=   1.7s\n",
            "[CV] END max_depth=7, max_features=auto, min_samples_leaf=2, min_samples_split=10, n_estimators=56; total time=   1.3s\n"
          ]
        },
        {
          "output_type": "execute_result",
          "data": {
            "text/plain": [
              "RandomizedSearchCV(cv=5, estimator=RandomForestClassifier(random_state=42),\n",
              "                   n_jobs=1,\n",
              "                   param_distributions={'max_depth': [5, 6, 7, 8, 9, 10],\n",
              "                                        'max_features': ['auto'],\n",
              "                                        'min_samples_leaf': [1, 2, 5],\n",
              "                                        'min_samples_split': [2, 5, 10],\n",
              "                                        'n_estimators': [50, 56, 62, 69, 75, 81,\n",
              "                                                         88, 94, 100, 107, 113,\n",
              "                                                         120]},\n",
              "                   random_state=42, scoring='neg_mean_squared_error',\n",
              "                   verbose=2)"
            ]
          },
          "metadata": {},
          "execution_count": 26
        }
      ]
    },
    {
      "cell_type": "code",
      "source": [
        "rf_random.best_params_"
      ],
      "metadata": {
        "colab": {
          "base_uri": "https://localhost:8080/"
        },
        "id": "xnzY3El7Wdiu",
        "outputId": "8fb272e0-8cde-4a55-ad40-81e3a2d8aac6"
      },
      "execution_count": 27,
      "outputs": [
        {
          "output_type": "execute_result",
          "data": {
            "text/plain": [
              "{'n_estimators': 81,\n",
              " 'min_samples_split': 5,\n",
              " 'min_samples_leaf': 2,\n",
              " 'max_features': 'auto',\n",
              " 'max_depth': 10}"
            ]
          },
          "metadata": {},
          "execution_count": 27
        }
      ]
    },
    {
      "cell_type": "code",
      "source": [
        "prediction = rf_random.predict(test_features)"
      ],
      "metadata": {
        "id": "I1y8-8rvWd8m"
      },
      "execution_count": 28,
      "outputs": []
    },
    {
      "cell_type": "markdown",
      "source": [
        "# Evaluation Metrics"
      ],
      "metadata": {
        "id": "Q965us5RWk1y"
      }
    },
    {
      "cell_type": "code",
      "source": [
        "print(\"Accuracy Score:\",accuracy_score(test_labels, predictions))"
      ],
      "metadata": {
        "colab": {
          "base_uri": "https://localhost:8080/"
        },
        "id": "pEPPsG97Wmot",
        "outputId": "b00e9ecb-8ffd-490a-a8ab-70bfa027ccfb"
      },
      "execution_count": 31,
      "outputs": [
        {
          "output_type": "stream",
          "name": "stdout",
          "text": [
            "Accuracy Score: 0.35995414596866643\n"
          ]
        }
      ]
    },
    {
      "cell_type": "code",
      "source": [],
      "metadata": {
        "id": "F58oPmhcbjaE"
      },
      "execution_count": null,
      "outputs": []
    }
  ]
}